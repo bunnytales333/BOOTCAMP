{
 "cells": [
  {
   "cell_type": "code",
   "execution_count": null,
   "metadata": {},
   "outputs": [
    {
     "name": "stdout",
     "output_type": "stream",
     "text": [
      "Dataset Preview:\n",
      "       country  1960  1961  1962  1963  1964  1965  1966  1967  1968  ...  \\\n",
      "0        Aruba   0.0   NaN   NaN   NaN   NaN   0.0   NaN   NaN   NaN  ...   \n",
      "1  Afghanistan   0.0   NaN   NaN   NaN   NaN   0.0   NaN   NaN   NaN  ...   \n",
      "2       Angola   0.0   NaN   NaN   NaN   NaN   0.0   NaN   NaN   NaN  ...   \n",
      "3      Albania   0.0   NaN   NaN   NaN   NaN   0.0   NaN   NaN   NaN  ...   \n",
      "4      Andorra   0.0   NaN   NaN   NaN   NaN   0.0   NaN   NaN   NaN  ...   \n",
      "\n",
      "    2014   2015   2016   2017   2018   2019   2020   2021   2022   2023  \n",
      "0   140k   141k    NaN    NaN    NaN   141k   141k   141k    NaN    NaN  \n",
      "1  18.4M  19.7M  21.6M  23.9M    22M  22.6M  22.7M  22.7M  22.8M    23M  \n",
      "2  14.1M  13.9M    13M  13.3M  13.3M  14.8M  14.6M  15.3M  23.7M  25.7M  \n",
      "3  3.36M   3.4M  3.37M  3.63M  2.71M  2.63M  2.62M  2.64M  2.78M  2.61M  \n",
      "4  66.2k  71.3k  76.1k  80.3k  82.6k  87.9k  80.4k  93.8k   114k   126k  \n",
      "\n",
      "[5 rows x 65 columns]\n",
      "\n",
      "Aggregation Results (MAX, AVG, SUM for each year):\n",
      "     1960  1961  1962  1963  1964  1965  1966  1967  1968  1969  ...  \\\n",
      "MAX   0.0   NaN   NaN   NaN   NaN   0.0   NaN   NaN   NaN   NaN  ...   \n",
      "AVG   0.0   NaN   NaN   NaN   NaN   0.0   NaN   NaN   NaN   NaN  ...   \n",
      "SUM   0.0   0.0   0.0   0.0   0.0   0.0   0.0   0.0   0.0   0.0  ...   \n",
      "\n",
      "             2014          2015          2016          2017          2018  \\\n",
      "MAX  9.440000e+08  3.390000e+08  3.860000e+08  4.350000e+08  3.480000e+08   \n",
      "AVG  2.770203e+07  2.346019e+07  2.464623e+07  2.489486e+07  2.644261e+07   \n",
      "SUM  5.651215e+09  4.809339e+09  4.929245e+09  5.028763e+09  4.997654e+09   \n",
      "\n",
      "             2019          2020          2021          2022          2023  \n",
      "MAX  3.560000e+08  3.560000e+08  3.660000e+08  3.730000e+08  3.860000e+08  \n",
      "AVG  2.567019e+07  2.605462e+07  2.700465e+07  3.241047e+07  3.541993e+07  \n",
      "SUM  5.288058e+09  5.367252e+09  5.562957e+09  5.542190e+09  5.065050e+09  \n",
      "\n",
      "[3 rows x 64 columns]\n"
     ]
    },
    {
     "name": "stderr",
     "output_type": "stream",
     "text": [
      "C:\\Users\\nandhu S\\AppData\\Local\\Temp\\ipykernel_30332\\1438216033.py:22: FutureWarning: DataFrame.applymap has been deprecated. Use DataFrame.map instead.\n",
      "  df.iloc[:, 1:] = df.iloc[:, 1:].applymap(convert_to_number)\n"
     ]
    }
   ],
   "source": [
    "import pandas as pd\n",
    "\n",
    "file_path = r\"cell_phones_total.xlsx\"\n",
    "df = pd.read_excel(file_path, engine=\"openpyxl\")\n",
    "\n",
    "print(\"Dataset Preview:\")\n",
    "print(df.head())\n",
    "def convert_to_number(value):\n",
    "    if isinstance(value, str):\n",
    "        value = value.lower().replace(\",\", \"\")  # Remove commas\n",
    "        if \"k\" in value:\n",
    "            return float(value.replace(\"k\", \"\")) * 1_000\n",
    "        elif \"m\" in value:\n",
    "            return float(value.replace(\"m\", \"\")) * 1_000_000\n",
    "    return pd.to_numeric(value, errors=\"coerce\") \n",
    "df.iloc[:, 1:] = df.iloc[:, 1:].applymap(convert_to_number)\n",
    "agg_results = df.iloc[:, 1:].agg([\"max\", \"mean\", \"sum\"])\n",
    "agg_results.index = [\"MAX\", \"AVG\", \"SUM\"]\n",
    "print(\"\\nAggregation Results (MAX, AVG, SUM for each year):\")\n",
    "print(agg_results)"
   ]
  }
 ],
 "metadata": {
  "kernelspec": {
   "display_name": "Python 3",
   "language": "python",
   "name": "python3"
  },
  "language_info": {
   "codemirror_mode": {
    "name": "ipython",
    "version": 3
   },
   "file_extension": ".py",
   "mimetype": "text/x-python",
   "name": "python",
   "nbconvert_exporter": "python",
   "pygments_lexer": "ipython3",
   "version": "3.12.5"
  }
 },
 "nbformat": 4,
 "nbformat_minor": 2
}
