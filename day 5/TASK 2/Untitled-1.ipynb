{
 "cells": [
  {
   "cell_type": "code",
   "execution_count": null,
   "metadata": {},
   "outputs": [
    {
     "name": "stdout",
     "output_type": "stream",
     "text": [
      "           Bowler        Batter    Ball Type Shot Type Speed (kph) Runs Scored\n",
      "0  Jasprit Bumrah   Virat Kohli  good length    single        None        None\n",
      "1  Mitchell Starc  Rohit Sharma       yorker      four         145        None\n",
      "2     Pat Cummins      KL Rahul   short ball       six        None        None\n",
      "3     Rashid Khan      MS Dhoni    full toss    double        None        None\n"
     ]
    }
   ],
   "source": [
    "import re\n",
    "import pandas as pd\n",
    "\n",
    "def extract_info(commentary):\n",
    "    bowler_pattern = r'([A-Za-z]+\\s[A-Za-z]+) to'\n",
    "    batter_pattern = r'to ([A-Za-z]+\\s[A-Za-z]+)'\n",
    "    ball_type_pattern = r'\\b(yorker|bouncer|full toss|good length|short ball)\\b'\n",
    "    shot_type_pattern = r'\\b(boundary|six|four|single|double|triple)\\b'\n",
    "    speed_pattern = r'\\b(\\d{2,3})\\s?kph\\b'\n",
    "    runs_pattern = r'\\b(\\d+) runs?\\b'\n",
    "    \n",
    "    bowler = re.search(bowler_pattern, commentary)\n",
    "    batter = re.search(batter_pattern, commentary)\n",
    "    ball_type = re.search(ball_type_pattern, commentary, re.IGNORECASE)\n",
    "    shot_type = re.search(shot_type_pattern, commentary, re.IGNORECASE)\n",
    "    speed = re.search(speed_pattern, commentary)\n",
    "    runs = re.search(runs_pattern, commentary)\n",
    "    \n",
    "    return {\n",
    "        \"Bowler\": bowler.group(1) if bowler else None,\n",
    "        \"Batter\": batter.group(1) if batter else None,\n",
    "        \"Ball Type\": ball_type.group(1) if ball_type else None,\n",
    "        \"Shot Type\": shot_type.group(1) if shot_type else None,\n",
    "        \"Speed (kph)\": speed.group(1) if speed else None,\n",
    "        \"Runs Scored\": runs.group(1) if runs else None\n",
    "    }\n",
    "commentary_data = [\n",
    "    \"Jasprit Bumrah to Virat Kohli, good length ball, played for a single.\",\n",
    "    \"Mitchell Starc to Rohit Sharma, yorker at 145 kph, driven for four runs!\",\n",
    "    \"Pat Cummins to KL Rahul, short ball, pulled for a six!\",\n",
    "    \"Rashid Khan to MS Dhoni, full toss, flicked for a double.\"\n",
    "]\n",
    "\n",
    "data = [extract_info(comment) for comment in commentary_data]\n",
    "df = pd.DataFrame(data)\n",
    "print(df)"
   ]
  }
 ],
 "metadata": {
  "kernelspec": {
   "display_name": "Python 3",
   "language": "python",
   "name": "python3"
  },
  "language_info": {
   "codemirror_mode": {
    "name": "ipython",
    "version": 3
   },
   "file_extension": ".py",
   "mimetype": "text/x-python",
   "name": "python",
   "nbconvert_exporter": "python",
   "pygments_lexer": "ipython3",
   "version": "3.12.5"
  }
 },
 "nbformat": 4,
 "nbformat_minor": 2
}
