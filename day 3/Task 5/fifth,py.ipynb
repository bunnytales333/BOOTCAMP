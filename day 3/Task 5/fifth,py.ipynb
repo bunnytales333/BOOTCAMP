{
 "cells": [
  {
   "cell_type": "code",
   "execution_count": 3,
   "metadata": {},
   "outputs": [
    {
     "data": {
      "application/vnd.jupyter.widget-view+json": {
       "model_id": "9ca19e81e36140d2abd5778250d1d047",
       "version_major": 2,
       "version_minor": 0
      },
      "text/plain": [
       "interactive(children=(Dropdown(description='Year:', options=(np.int64(2020), np.int64(2021), np.int64(2022)), …"
      ]
     },
     "execution_count": 3,
     "metadata": {},
     "output_type": "execute_result"
    }
   ],
   "source": [
    "import matplotlib.pyplot as plt\n",
    "import pandas as pd\n",
    "import seaborn as sns\n",
    "import ipywidgets as widgets\n",
    "from ipywidgets import interactive\n",
    "data = {\n",
    "    'Country': ['USA', 'Canada', 'Germany', 'Japan', 'India', 'Brazil'] * 3,\n",
    "    'Income': [60000, 50000, 55000, 40000, 3000, 9000] * 3,\n",
    "    'Life Expectancy': [79, 82, 81, 84, 70, 75] * 3,\n",
    "    'Year': [2020] * 6 + [2021] * 6 + [2022] * 6\n",
    "}\n",
    "\n",
    "df = pd.DataFrame(data)\n",
    "\n",
    "def plot_bubble_chart(selected_year):\n",
    "    filtered_data = df[df['Year'] == selected_year]\n",
    "    plt.figure(figsize=(10, 6))\n",
    "    sns.scatterplot(\n",
    "        x='Income', y='Life Expectancy', data=filtered_data,\n",
    "        size='Income', sizes=(50, 200), hue='Country', palette='tab10', legend=False\n",
    "    )\n",
    "    plt.title(f'Life Expectancy vs Income ({selected_year})', fontsize=16)\n",
    "    plt.xlabel('Income (USD)', fontsize=12)\n",
    "    plt.ylabel('Life Expectancy (Years)', fontsize=12)\n",
    "    plt.show()\n",
    "year_selector = widgets.Dropdown(\n",
    "    options=df['Year'].unique(),  # Dynamically fetch unique years\n",
    "    value=2020,  \n",
    "    description='Year:',\n",
    ")\n",
    "interactive_plot = interactive(plot_bubble_chart, selected_year=year_selector)\n",
    "output = interactive_plot.children[-1]\n",
    "output.layout.height = '400px'\n",
    "interactive_plot\n"
   ]
  }
 ],
 "metadata": {
  "kernelspec": {
   "display_name": "Python 3",
   "language": "python",
   "name": "python3"
  },
  "language_info": {
   "codemirror_mode": {
    "name": "ipython",
    "version": 3
   },
   "file_extension": ".py",
   "mimetype": "text/x-python",
   "name": "python",
   "nbconvert_exporter": "python",
   "pygments_lexer": "ipython3",
   "version": "3.12.5"
  }
 },
 "nbformat": 4,
 "nbformat_minor": 2
}
